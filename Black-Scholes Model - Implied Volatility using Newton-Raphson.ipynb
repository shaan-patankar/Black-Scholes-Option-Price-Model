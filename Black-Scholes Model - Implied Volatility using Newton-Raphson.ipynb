{
 "cells": [
  {
   "attachments": {},
   "cell_type": "markdown",
   "metadata": {},
   "source": [
    "The code below uses the Newton-Raphson method to calculate the implied volatility of an option. The Newton-Raphson method is a numerical optimisation technique that is used to find the root of a function by iteratively improving an initial guess for the root.\n",
    "\n",
    "The code first defines a function called impliedVolatility that takes the option price, the current price of the underlying asset, the option's strike price, the time until the option expires, the risk-free interest rate, and the type of option (call or put) as input parameters. The function then uses the Newton-Raphson method to iteratively improve the initial guess for the implied volatility until it reaches a convergence tolerance.\n",
    "\n",
    "The Newton-Raphson method is used to find the root of the function:\n",
    "\n",
    "$$f(x) = C(S,t) - price$$\n",
    "\n",
    "where $C(S,t)$ is the price of the call option, $S$ is the current price of the underlying asset, $K$ is the option's strike price, $t$ is the time until the option expires, $r$ is the risk-free interest rate, and $\\sigma$ is the volatility of the underlying asset.\n",
    "\n",
    "The function first calculates the values of $d_1$ and $d_2$ using the Black-Scholes formula:\n",
    "\n",
    "$$d_1 = \\frac{\\log\\left(\\frac{S}{K}\\right) + \\left(r + \\frac{\\sigma^2}{2}\\right)t}{\\sigma \\sqrt{t}}$$\n",
    "\n",
    "$$d_2 = \\frac{\\log\\left(\\frac{S}{K}\\right) + \\left(r - \\frac{\\sigma^2}{2}\\right)t}{\\sigma \\sqrt{t}}$$\n",
    "\n",
    "where $S$ is the current price of the underlying asset, $K$ is the option's strike price, $t$ is the time until the option expires, $r$ is the risk-free interest rate, and $\\sigma$ is the volatility of the underlying asset.\n",
    "\n",
    "Next, the function uses the Black-Scholes formula to calculate the price of the call or put option, depending on the value of the type parameter. If type is \"C\", the call option price is calculated using the Black-Scholes formula. If type is \"P\", the put option price is calculated using the Black-Scholes formula.\n",
    "\n",
    "The function then checks for convergence by comparing the calculated option price with the input price parameter. If the difference between the two is less than the convergence tolerance, the function exits the loop and returns the calculated implied volatility.\n",
    "\n",
    "If the difference is greater than the convergence tolerance, the function calculates the first derivative of the Black-Scholes formula, which is used to update the guess for the implied volatility. The function then repeats these steps until the convergence tolerance is reached, and the implied volatility is calculated with the desired precision.\n",
    "\n",
    "Finally, the code sets the input parameters and calls the impliedVolatility function to calculate the implied volatility of an option. The function returns the implied volatility, which is then printed to the console."
   ]
  },
  {
   "cell_type": "code",
   "execution_count": 1,
   "metadata": {},
   "outputs": [
    {
     "name": "stdout",
     "output_type": "stream",
     "text": [
      "The implied volatility is:  0.1239643606579658\n"
     ]
    }
   ],
   "source": [
    "# Calculating the implied volatility using Newton-Raphson method \n",
    "import numpy as np\n",
    "from scipy.stats import norm\n",
    "\n",
    "def impliedVolatility(price, S, K, T, r, type):\n",
    "    \"Calculate implied volatility using Newton's Method\"\n",
    "    sigma = 0.2  # initial guess for implied volatility\n",
    "    tolerance = 0.001  # convergence tolerance\n",
    "    max_iterations = 1000  # maximum number of iterations\n",
    "\n",
    "    for i in range(max_iterations):\n",
    "        d1 = (np.log(S/K) + (r + sigma**2/2)*T)/(sigma*np.sqrt(T))\n",
    "        d2 = d1 - sigma*np.sqrt(T)\n",
    "\n",
    "        # Calculate option price using Black-Scholes formula\n",
    "        if type == \"C\":\n",
    "            bs_price = S*norm.cdf(d1, 0, 1) - K*np.exp(-r*T)*norm.cdf(d2, 0, 1)\n",
    "        elif type == \"P\":\n",
    "            bs_price = K*np.exp(-r*T)*norm.cdf(-d2, 0 , 1) - S*norm.cdf(-d1, 0, 1)\n",
    "\n",
    "        # Check for convergence\n",
    "        if abs(bs_price - price) < tolerance:\n",
    "            break\n",
    "\n",
    "        # Calculate first derivative of Black-Scholes formula\n",
    "        d_bs_price = S*np.sqrt(T)*norm.pdf(d1, 0, 1)\n",
    "\n",
    "        # Update guess for implied volatility\n",
    "        sigma = sigma - (bs_price - price)/d_bs_price\n",
    "\n",
    "    return sigma\n",
    "\n",
    "price = 5\n",
    "S = 100\n",
    "K = 105\n",
    "T = 1\n",
    "r = 0.05\n",
    "type = \"C\"\n",
    "\n",
    "implied_vol = impliedVolatility(price, S, K, T, r, type)\n",
    "\n",
    "print(\"The implied volatility is: \", implied_vol)"
   ]
  }
 ],
 "metadata": {
  "kernelspec": {
   "display_name": "Python 3",
   "language": "python",
   "name": "python3"
  },
  "language_info": {
   "codemirror_mode": {
    "name": "ipython",
    "version": 3
   },
   "file_extension": ".py",
   "mimetype": "text/x-python",
   "name": "python",
   "nbconvert_exporter": "python",
   "pygments_lexer": "ipython3",
   "version": "3.10.6"
  },
  "orig_nbformat": 4,
  "vscode": {
   "interpreter": {
    "hash": "369f2c481f4da34e4445cda3fffd2e751bd1c4d706f27375911949ba6bb62e1c"
   }
  }
 },
 "nbformat": 4,
 "nbformat_minor": 2
}
