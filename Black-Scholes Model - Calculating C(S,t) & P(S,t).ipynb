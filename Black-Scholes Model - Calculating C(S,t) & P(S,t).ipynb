{
 "cells": [
  {
   "attachments": {},
   "cell_type": "markdown",
   "metadata": {},
   "source": [
    "The code below uses the Black-Scholes formula to calculate the prices of call and put options for a given underlying asset. The input parameters for the Black-Scholes formula include the current price of the underlying asset, the option's strike price, the time until the option expires, the risk-free interest rate, and the volatility of the underlying asset.\n",
    "\n",
    "The code first calculates the values of $d_1$ and $d_2$ using the Black-Scholes formula:\n",
    "\n",
    "$$d_1 = \\frac{\\log\\left(\\frac{S}{K}\\right) + \\left(r + \\frac{\\sigma^2}{2}\\right)T}{\\sigma \\sqrt{T}}$$\n",
    "\n",
    "$$d_2 = \\frac{\\log\\left(\\frac{S}{K}\\right) + \\left(r - \\frac{\\sigma^2}{2}\\right)T}{\\sigma \\sqrt{T}}$$\n",
    "\n",
    "where $S$ is the current price of the underlying asset, $K$ is the option's strike price, $T$ is the time until the option expires, $r$ is the risk-free interest rate, and $\\sigma$ is the volatility of the underlying asset.\n",
    "\n",
    "Next, the code uses the Black-Scholes formula to calculate the prices of the call and put options:\n",
    "\n",
    "$$C(S,t) = S N(d_1) - K e^{-rT} N(d_2)$$\n",
    "\n",
    "$$P(S,t) = K e^{-rT} N(-d_2) - S N(-d_1)$$\n",
    "\n",
    "where $N$ is the cumulative distribution function of the standard normal distribution.\n",
    "\n",
    "Finally, the code prints the prices of the call and put options to the console. These prices are calculated using the input parameters and the Black-Scholes formula.\n",
    "\n",
    "The Black-Scholes formula provides a theoretical price for a European call or put option, based on the assumptions of the model. This price can be used by option traders and investors to evaluate the value of the option, and to make decisions about buying or selling the option. The PDE is, \n",
    "\n",
    "$$ \\frac{\\partial V}{\\partial t} + rS \\frac{\\partial V}{\\partial S} + \\frac{1}{2} \\sigma^2 S^2 \\frac{\\partial^2 V}{\\partial S^2} - rV = 0 $$\n"
   ]
  },
  {
   "cell_type": "code",
   "execution_count": 2,
   "metadata": {},
   "outputs": [
    {
     "name": "stdout",
     "output_type": "stream",
     "text": [
      "Call price: 8.021352235143176\n",
      "Put price: 7.9004418077181455\n"
     ]
    }
   ],
   "source": [
    "# Solving the Black-Scholes PDE to calculate C(S,t) & P(S,t)\n",
    "import numpy as np\n",
    "from scipy.stats import norm\n",
    "\n",
    "# Set the input parameters for the Black-Scholes formula\n",
    "S = 100  # Current price of the underlying asset\n",
    "K = 105  # Option's strike price\n",
    "T = 1  # Time until the option expires (in years)\n",
    "r = 0.05  # Risk-free interest rate\n",
    "sigma = 0.2  # Volatility of the underlying asset\n",
    "\n",
    "# Calculate d1 and d2 using the Black-Scholes formula\n",
    "d1 = (np.log(S / K) + (r + 0.5 * sigma ** 2) * T) / (sigma * np.sqrt(T))\n",
    "d2 = (np.log(S / K) + (r - 0.5 * sigma ** 2) * T) / (sigma * np.sqrt(T))\n",
    "\n",
    "# Calculate the option price using the Black-Scholes formula\n",
    "call_price = S * norm.cdf(d1) - K * np.exp(-r * T) * norm.cdf(d2)\n",
    "put_price = K * np.exp(-r * T) * norm.cdf(-d2) - S * norm.cdf(-d1)\n",
    "\n",
    "# Print the option prices\n",
    "print(\"Call price:\", call_price)\n",
    "print(\"Put price:\", put_price)"
   ]
  }
 ],
 "metadata": {
  "kernelspec": {
   "display_name": "Python 3",
   "language": "python",
   "name": "python3"
  },
  "language_info": {
   "codemirror_mode": {
    "name": "ipython",
    "version": 3
   },
   "file_extension": ".py",
   "mimetype": "text/x-python",
   "name": "python",
   "nbconvert_exporter": "python",
   "pygments_lexer": "ipython3",
   "version": "3.10.6 (tags/v3.10.6:9c7b4bd, Aug  1 2022, 21:53:49) [MSC v.1932 64 bit (AMD64)]"
  },
  "orig_nbformat": 4,
  "vscode": {
   "interpreter": {
    "hash": "369f2c481f4da34e4445cda3fffd2e751bd1c4d706f27375911949ba6bb62e1c"
   }
  }
 },
 "nbformat": 4,
 "nbformat_minor": 2
}
