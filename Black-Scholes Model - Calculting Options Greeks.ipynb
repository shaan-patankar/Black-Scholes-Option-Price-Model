{
 "cells": [
  {
   "attachments": {},
   "cell_type": "markdown",
   "metadata": {},
   "source": [
    "The code below uses the Black-Scholes formula to calculate the option greeks for a call or put option. The option greeks are a set of values that measure the sensitivity of the option price to various factors that affect the option's value. The option greeks are commonly used by option traders and investors to evaluate the risk of holding an option, and to make decisions about buying or selling the option.\n",
    "\n",
    "The code first defines a function called blackScholesGreeks that takes the current price of the underlying asset, the option's strike price, the time until the option expires, the risk-free interest rate, and the volatility of the underlying asset as input parameters. The function then uses the Black-Scholes formula to calculate the values of $d_1$ and $d_2$, which are used in the formula to calculate the option price.\n",
    "\n",
    "Next, the function uses the Black-Scholes formula to calculate the price of the call and put options, and then calculates the option greeks for both options. The option greeks that are calculated by the function are:\n",
    "\n",
    "* Delta: the rate of change of the option price with respect to the underlying asset price\n",
    "\n",
    "* Gamma: the rate of change of the option delta with respect to the underlying asset price\n",
    "\n",
    "* Theta: the rate of change of the option price with respect to the time until the option expires\n",
    "\n",
    "* Vega: the rate of change of the option price with respect to the volatility of the underlying asset\n",
    "\n",
    "* Rho: the rate of change of the option price with respect to the risk-free interest rate\n",
    "\n",
    "The function returns the option greeks for the call and put options as a dictionary, with the different greeks as keys, and their corresponding values as the values of the dictionary.\n",
    "\n",
    "Finally, the code sets the input parameters and calls the blackScholesGreeks function to calculate the option greeks. The function returns the option greeks, which are then printed to the console."
   ]
  },
  {
   "cell_type": "code",
   "execution_count": 5,
   "metadata": {},
   "outputs": [
    {
     "name": "stdout",
     "output_type": "stream",
     "text": [
      "Option greeks:\n",
      "Call Delta:  0.5422283335848053\n",
      "Call Gamma:  0.019835261904213263\n",
      "Call Theta:  -6.277126437009521\n",
      "Call Vega:  39.67052380842653\n",
      "Call Rho:  46.20148112333735\n",
      "Put Delta:  -0.4577716664151948\n",
      "Put Gamma:  0.019835261904213263\n",
      "Put Theta:  -1.2831719583807715\n",
      "Put Vega:  39.67052380842653\n",
      "Put Rho:  -53.677608449237624\n"
     ]
    }
   ],
   "source": [
    "# Calculating call/put option greek's using Black-Scholes model\n",
    "import numpy as np\n",
    "from scipy.stats import norm\n",
    "\n",
    "def blackScholesGreeks(S, K, T, r, sigma):\n",
    "    \"Calculate option greeks using Black-Scholes formula\"\n",
    "\n",
    "    d1 = (np.log(S/K) + (r + sigma**2/2)*T)/(sigma*np.sqrt(T))\n",
    "    d2 = d1 - sigma*np.sqrt(T)\n",
    "\n",
    "    # Calculate option price using Black-Scholes formula\n",
    "    call_price = S*norm.cdf(d1, 0, 1) - K*np.exp(-r*T)*norm.cdf(d2, 0, 1)\n",
    "    put_price = K*np.exp(-r*T)*norm.cdf(-d2, 0, 1) - S*norm.cdf(-d1, 0, 1)\n",
    "\n",
    "    # Calculate option greeks\n",
    "    delta_call = norm.cdf(d1, 0, 1)\n",
    "    delta_put = -norm.cdf(-d1, 0, 1)\n",
    "    gamma = norm.pdf(d1, 0, 1) / (S*sigma*np.sqrt(T))\n",
    "    theta_call = -(S*sigma*norm.pdf(d1, 0, 1))/(2*np.sqrt(T)) - r*K*np.exp(-r*T)*norm.cdf(d2, 0, 1)\n",
    "    theta_put = -(S*sigma*norm.pdf(-d1, 0, 1))/(2*np.sqrt(T)) + r*K*np.exp(-r*T)*norm.cdf(-d2, 0, 1)\n",
    "    vega = S*np.sqrt(T)*norm.pdf(d1, 0, 1)\n",
    "    rho_call = K*T*np.exp(-r*T)*norm.cdf(d2, 0, 1)\n",
    "    rho_put = -K*T*np.exp(-r*T)*norm.cdf(-d2, 0, 1)\n",
    "\n",
    "    return {\n",
    "        \"call\": {\n",
    "            \"price\": call_price,\n",
    "            \"delta\": delta_call,\n",
    "            \"gamma\": gamma,\n",
    "            \"theta\": theta_call,\n",
    "            \"vega\": vega,\n",
    "            \"rho\": rho_call\n",
    "        },\n",
    "        \"put\": {\n",
    "            \"price\": put_price,\n",
    "            \"delta\": delta_put,\n",
    "            \"gamma\": gamma,\n",
    "            \"theta\": theta_put,\n",
    "            \"vega\": vega,\n",
    "            \"rho\": rho_put\n",
    "        }\n",
    "    }\n",
    "\n",
    "S = 100\n",
    "K = 105\n",
    "T = 1\n",
    "r = 0.05\n",
    "sigma = 0.2\n",
    "\n",
    "greeks = blackScholesGreeks(S, K, T, r, sigma)\n",
    "\n",
    "print(\"Option greeks:\")\n",
    "print(\"Call Delta: \", greeks[\"call\"][\"delta\"])\n",
    "print(\"Call Gamma: \", greeks[\"call\"][\"gamma\"])\n",
    "print(\"Call Theta: \", greeks[\"call\"][\"theta\"])\n",
    "print(\"Call Vega: \", greeks[\"call\"][\"vega\"])\n",
    "print(\"Call Rho: \", greeks[\"call\"][\"rho\"])\n",
    "print(\"Put Delta: \", greeks[\"put\"][\"delta\"])\n",
    "print(\"Put Gamma: \", greeks[\"put\"][\"gamma\"])\n",
    "print(\"Put Theta: \", greeks[\"put\"][\"theta\"])\n",
    "print(\"Put Vega: \", greeks[\"put\"][\"vega\"])\n",
    "print(\"Put Rho: \", greeks[\"put\"][\"rho\"])"
   ]
  }
 ],
 "metadata": {
  "kernelspec": {
   "display_name": "Python 3",
   "language": "python",
   "name": "python3"
  },
  "language_info": {
   "codemirror_mode": {
    "name": "ipython",
    "version": 3
   },
   "file_extension": ".py",
   "mimetype": "text/x-python",
   "name": "python",
   "nbconvert_exporter": "python",
   "pygments_lexer": "ipython3",
   "version": "3.10.6 (tags/v3.10.6:9c7b4bd, Aug  1 2022, 21:53:49) [MSC v.1932 64 bit (AMD64)]"
  },
  "orig_nbformat": 4,
  "vscode": {
   "interpreter": {
    "hash": "369f2c481f4da34e4445cda3fffd2e751bd1c4d706f27375911949ba6bb62e1c"
   }
  }
 },
 "nbformat": 4,
 "nbformat_minor": 2
}
