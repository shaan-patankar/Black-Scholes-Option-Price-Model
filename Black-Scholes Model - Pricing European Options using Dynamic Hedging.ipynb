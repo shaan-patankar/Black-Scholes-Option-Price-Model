{
 "cells": [
  {
   "attachments": {},
   "cell_type": "markdown",
   "metadata": {},
   "source": [
    "This code is a Python implementation of the Black-Scholes model for pricing European call and put options, as well as a dynamic hedging strategy for managing the risk associated with these options. The Black-Scholes model is a mathematical model for pricing options that assumes that the underlying asset follows a Geometric Brownian Motion (GMB), which is a type of stochastic process. The dynamic hedging strategy involves continuously rebalancing the portfolio of the option and the underlying asset in order to reduce the risk of the option. This is done by calculating the number of shares of the underlying asset to hold in the portfolio based on the change in the option value and the change in the underlying asset price."
   ]
  },
  {
   "cell_type": "code",
   "execution_count": 2,
   "metadata": {},
   "outputs": [
    {
     "name": "stdout",
     "output_type": "stream",
     "text": [
      "       Shares  Option Value\n",
      "0    0.060455  21291.980518\n",
      "1    1.039662  21291.980518\n",
      "2    1.999669  21291.980518\n",
      "3    2.940852  21291.980518\n",
      "4    3.863580  21291.980518\n",
      "..        ...           ...\n",
      "95  42.389236  21291.980518\n",
      "96  42.538467  21291.980518\n",
      "97  42.684771  21291.980518\n",
      "98  42.828207  21291.980518\n",
      "99  42.968830  21291.980518\n",
      "\n",
      "[100 rows x 2 columns]\n"
     ]
    }
   ],
   "source": [
    "import numpy as np\n",
    "from scipy.stats import norm\n",
    "import pandas as pd\n",
    "\n",
    "# Black-Scholes equation\n",
    "def black_scholes(S, K, T, r, sigma, norm):\n",
    "  d1 = (np.log(S/K) + (r + 0.5 * sigma**2) * T) / (sigma * np.sqrt(T))\n",
    "  d2 = d1 - sigma * np.sqrt(T)\n",
    "  call = S * norm.cdf(d1) - K * np.exp(-r * T) * norm.cdf(d2)\n",
    "  put = K * np.exp(-r * T) * norm.cdf(-d2) - S * norm.cdf(-d1)\n",
    "  return call, put\n",
    "\n",
    "# Dynamic hedging\n",
    "def dynamic_hedging(S, K, T, r, sigma, n_steps, norm):\n",
    "  # Initialize the portfolio\n",
    "  portfolio = []\n",
    "  # Initialize the option value\n",
    "  option = 0\n",
    "  \n",
    "  # Loop over time steps\n",
    "  for t in range(n_steps):\n",
    "    # Calculate the option value at time t\n",
    "    call, put = black_scholes(S, K, T, r, sigma, norm)\n",
    "    option += call\n",
    "    \n",
    "    # Calculate the number of shares to hold in the portfolio\n",
    "    dS = S * sigma * np.sqrt(T/n_steps)\n",
    "    dC = call - put\n",
    "    shares = dC / dS\n",
    "    \n",
    "    # Update the portfolio\n",
    "    portfolio.append(shares)\n",
    "    \n",
    "    # Update the underlying asset price\n",
    "    S += dS\n",
    "  \n",
    "  # Return the final portfolio and option value\n",
    "  return portfolio, option\n",
    "\n",
    "# Set the parameters\n",
    "S = 100     # Current price of stock\n",
    "K = 105     # Strike price of the option\n",
    "T = 1       # Time to expiration (in years)\n",
    "r = 0.05    # Risk-free interest rate\n",
    "sigma = 0.2 # Volatility of stock\n",
    "\n",
    "# Calculate the optimal portfolio and option value\n",
    "portfolio, option = dynamic_hedging(S, K, T, r, sigma, n_steps=100, norm=norm)\n",
    "\n",
    "# Create a DataFrame object to store the optimal portfolio\n",
    "df = pd.DataFrame(portfolio, columns=['Shares'])\n",
    "\n",
    "# Add the option value to the DataFrame\n",
    "df['Option Value'] = option\n",
    "\n",
    "# Display the DataFrame\n",
    "print(df)"
   ]
  }
 ],
 "metadata": {
  "kernelspec": {
   "display_name": "Python 3",
   "language": "python",
   "name": "python3"
  },
  "language_info": {
   "codemirror_mode": {
    "name": "ipython",
    "version": 3
   },
   "file_extension": ".py",
   "mimetype": "text/x-python",
   "name": "python",
   "nbconvert_exporter": "python",
   "pygments_lexer": "ipython3",
   "version": "3.10.6 (tags/v3.10.6:9c7b4bd, Aug  1 2022, 21:53:49) [MSC v.1932 64 bit (AMD64)]"
  },
  "orig_nbformat": 4,
  "vscode": {
   "interpreter": {
    "hash": "369f2c481f4da34e4445cda3fffd2e751bd1c4d706f27375911949ba6bb62e1c"
   }
  }
 },
 "nbformat": 4,
 "nbformat_minor": 2
}
